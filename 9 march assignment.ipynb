{
 "cells": [
  {
   "cell_type": "code",
   "execution_count": null,
   "id": "d7dc05a2-5c31-4a17-9ff6-7d20fb98ab3e",
   "metadata": {},
   "outputs": [],
   "source": [
    "\"\"\"                                [ ASSIGNMENT]\n",
    "Q1: What are the Probability Mass Function (PMF) and Probability Density Function (PDF)? Explain with\n",
    "an example.\n",
    "ANSWER] The difference between PMF and PDF:\n",
    "\n",
    "              PMF                                                                          \tPDF\n",
    "Solution ranges between numbers of discrete random variables\t   The solution is in a range of continuous random variables\n",
    "Uses discrete random variables                                       \tUses continuous random variables\n",
    "\n",
    "\n",
    "In the case of the binomial distribution, the PMF has certain applications, such as:\n",
    "\n",
    "To find the number of successful sales calls\n",
    "To find the number of defective products in the production run\n",
    "Finding the number of head/tails in coin flipping\n",
    "For example, when considering three heads in a series of coin tosses, the PMF notation is: P(Heads = 3) = f (x)"
   ]
  },
  {
   "cell_type": "code",
   "execution_count": null,
   "id": "fdf9fff3-a1cd-4a68-a9b3-7f5b9c0718c3",
   "metadata": {},
   "outputs": [],
   "source": [
    "\"\"\"\n",
    "Q2: What is Cumulative Density Function (CDF)? Explain with an example. Why CDF is used?\n",
    "\n",
    "ANSWER] The cumulative distribution function is used to describe the probability distribution of random variables. It can be\n",
    "used to describe the probability for a discrete, continuous or mixed variable. It is obtained by summing up the probability\n",
    "density function and getting the cumulative probability for a random variable.\n",
    "\n",
    "Use the CDF to determine the probability that a random observation that is taken from the population will be less than or\n",
    "equal to a certain value"
   ]
  },
  {
   "cell_type": "code",
   "execution_count": null,
   "id": "4930a8aa-5764-4350-8173-ee1788a9c24b",
   "metadata": {},
   "outputs": [],
   "source": [
    "\"\"\"\n",
    "Q3: What are some examples of situations where the normal distribution might be used as a model?\n",
    "Explain how the parameters of the normal distribution relate to the shape of the distribution.\n",
    "\n",
    "ANSWER]1] The height of people is an example of normal distribution. Most of the people in a specific population are of\n",
    "average height.\n",
    "2]  A fair rolling of dice is also a good example of normal distribution. \n",
    "3]  the IQ of a particular population is a normal distribution curve; where the IQ of a majority of the people in the \n",
    " population lies in the normal range whereas the IQ of the rest of the population lives in the deviated range.\n",
    "4] Blood pressure generally follows a Gaussian distribution (normal) in the general population, and it makes Gaussian mixtur\n",
    "models a suitable candidate for modelling blood pressure behaviour.\n",
    "\n",
    "The two main parameters of a (normal) distribution are the mean and standard deviation. The parameters determine the shape\n",
    "and probabilities of the distribution. The shape of the distribution changes as the parameter values change.\n",
    "the mean defines the location of the peak, and most of the data points are clustered around the mean. Any changes made to \n",
    "the value of the mean move the curve either to the left or right along the X-axis.\n",
    "The standard deviation measures the dispersion of the data points relative to the mean. It determines how far away from the \n",
    "mean the data points are positioned and represents the distance between the mean and the observations."
   ]
  },
  {
   "cell_type": "code",
   "execution_count": null,
   "id": "f9a65d8e-f9cc-481e-abb8-4dbf7a0e2dc6",
   "metadata": {},
   "outputs": [],
   "source": [
    "\"\"\"\n",
    "Q4: Explain the importance of Normal Distribution. Give a few real-life examples of Normal\n",
    "Distribution.\n",
    "\n",
    "answer] The normal distribution is an important probability distribution in math and statistics because many continuous data\n",
    "in nature and psychology display this bell-shaped curve when compiled and graphed.\n",
    "1] The height of people is an example of normal distribution. Most of the people in a specific population are of\n",
    "average height.\n",
    "2]  A fair rolling of dice is also a good example of normal distribution. \n",
    "3]  the IQ of a particular population is a normal distribution curve; where the IQ of a majority of the people in the \n",
    " population lies in the normal range whereas the IQ of the rest of the population lives in the deviated range.\n",
    "4] Blood pressure generally follows a Gaussian distribution (normal) in the general population, and it makes Gaussian mixtur\n",
    "models a suitable candidate for modelling blood pressure behaviour."
   ]
  },
  {
   "cell_type": "code",
   "execution_count": null,
   "id": "25414417-78b1-4687-8a9a-8f5f403ffe0e",
   "metadata": {},
   "outputs": [],
   "source": [
    "\"\"\"\n",
    "Q5: What is Bernaulli Distribution? Give an Example. What is the difference between Bernoulli\n",
    "Distribution and Binomial Distribution?\n",
    "                            \n",
    "                            Bernoulli\n",
    "answer] A Bernoulli event is one for which the probability the event occurs is p and\n",
    "the probability the event does not occur is 1-p; i.e., the event is has two\n",
    "possible outcomes (usually viewed as success or failure) occurring with\n",
    "probability p and 1-p, respectively. A Bernoulli trial is an instantiation of a\n",
    "Bernoulli event. So long as the probability of success or failure remains the\n",
    "same from trial to trial (i.e., each trial is independent of the others), a\n",
    "sequence of Bernoulli trials is called a Bernoulli process.\n",
    "                           \n",
    "                           Binomial Distribution?\n",
    "It is the collection of Bernoulli trials for the same event, i.e., it contains more than 1 Bernoulli event for the same \n",
    "scenario for which the Bernoulli trial is calculated."
   ]
  },
  {
   "cell_type": "code",
   "execution_count": null,
   "id": "4b7be4b6-26e2-48c6-a977-ab3da1203c7c",
   "metadata": {},
   "outputs": [],
   "source": [
    "\"\"\"\n",
    "Q6. Consider a dataset with a mean of 50 and a standard deviation of 10. If we assume that the dataset\n",
    "is normally distributed, what is the probability that a randomly selected observation will be greater\n",
    "than 60? Use the appropriate formula and show your calculations."
   ]
  },
  {
   "cell_type": "code",
   "execution_count": null,
   "id": "c61a475e-5ace-40c5-b226-b2cd2d84a436",
   "metadata": {},
   "outputs": [],
   "source": [
    "\"\"\" \n",
    "z score = (xi - mu)/ sigma\n",
    "z score = 60-50/10\n",
    "z score = +1\n",
    "from z table :\n",
    "area from left = .8413\n",
    "probability of randomly selected observation  = .1587 or 15.87% \n"
   ]
  },
  {
   "cell_type": "code",
   "execution_count": null,
   "id": "f4a7e4b6-1184-49ad-9192-bf795d7d4fc7",
   "metadata": {},
   "outputs": [],
   "source": [
    "\"\"\"\n",
    "Q7: Explain uniform Distribution with an example.\n",
    "\n",
    "answer] In statistics, uniform distribution refers to a type of probability distribution in which all outcomes are equally\n",
    "likely. A deck of cards has within it uniform distributions because the likelihood of drawing a heart, a club, a diamond, or\n",
    "a spade is equally likely. A coin also has a uniform distribution because the probability of getting either heads or tails \n",
    "in a coin toss is the same.\n",
    "A deck of cards has within it uniform distributions because the likelihood of drawing a heart, a club, a diamond, or a \n",
    "spade is equally likely. A coin also has a uniform distribution because the probability of getting either heads or tails in \n",
    "a coin toss is the same."
   ]
  },
  {
   "cell_type": "code",
   "execution_count": null,
   "id": "d4d75d82-13ab-40c7-8188-aa3ae1fabdb6",
   "metadata": {},
   "outputs": [],
   "source": [
    "\"\"\"\n",
    "Q8: What is the z score? State the importance of the z score.\n",
    "\n",
    "answer]  Z-score is a statistical measurement that describes a value's relationship to the mean of a group of values. \n",
    "Z-score is measured in terms of standard deviations from the mean. If a Z-score is 0, it indicates that the data point's\n",
    "score is identical to the mean score.\n",
    "A z-score is important because it tells where your data lies in the data distribution. For example, if a z-score is 1.5, it\n",
    "is 1.5 standard deviations away from the mean. Because 68% of your data lies within one standard deviation (if it is normal\n",
    "distributed)"
   ]
  },
  {
   "cell_type": "code",
   "execution_count": null,
   "id": "725f19b0-ab93-4dd1-a3cd-1eea49a85168",
   "metadata": {},
   "outputs": [],
   "source": [
    "\"\"\"\n",
    "Q9: What is Central Limit Theorem? State the significance of the Central Limit Theorem.\n",
    "\n",
    "answer] The central limit theorem says that the sampling distribution of the mean will always be normally distributed, as \n",
    "long as the sample size is large enough. Regardless of whether the population has a normal, Poisson, binomial, or any other \n",
    "distribution, the sampling distribution of the mean will be normal.\n",
    "Political/election polling is a great example of how you can use CLT. These polls are used to estimate the number of people \n",
    "who support a specific candidate. You may have seen these results with confidence intervals on news channels. The CLT aids\n",
    "in this calculation.\n",
    "You use the CLT in various census fields to calculate various population details, such as family income, electricity \n",
    "consumption, individual salaries, and so on."
   ]
  },
  {
   "cell_type": "code",
   "execution_count": null,
   "id": "ff91057c-4307-423c-a125-d1786572a552",
   "metadata": {},
   "outputs": [],
   "source": [
    "\"\"\"\n",
    "Q10: State the assumption of central limit theorem?\n",
    "\n",
    "answer]The data must adhere to the randomization rule. It needs to be sampled at random.\n",
    "The samples should be unrelated to one another. One sample should not impact the others.\n",
    "When taking samples without replacement, the sample size should not exceed 10% of the population.\n",
    "When the population is symmetric, a sample size of 30 is generally considered reasonable"
   ]
  },
  {
   "cell_type": "code",
   "execution_count": null,
   "id": "f355e3aa-51d0-4dd1-8170-8c9887387669",
   "metadata": {},
   "outputs": [],
   "source": []
  }
 ],
 "metadata": {
  "kernelspec": {
   "display_name": "Python 3 (ipykernel)",
   "language": "python",
   "name": "python3"
  },
  "language_info": {
   "codemirror_mode": {
    "name": "ipython",
    "version": 3
   },
   "file_extension": ".py",
   "mimetype": "text/x-python",
   "name": "python",
   "nbconvert_exporter": "python",
   "pygments_lexer": "ipython3",
   "version": "3.10.6"
  }
 },
 "nbformat": 4,
 "nbformat_minor": 5
}
